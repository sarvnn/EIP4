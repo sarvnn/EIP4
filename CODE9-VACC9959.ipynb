{
  "nbformat": 4,
  "nbformat_minor": 0,
  "metadata": {
    "colab": {
      "name": "CODE9.ipynb",
      "provenance": [],
      "collapsed_sections": [],
      "include_colab_link": true
    },
    "kernelspec": {
      "name": "python3",
      "display_name": "Python 3"
    },
    "accelerator": "GPU"
  },
  "cells": [
    {
      "cell_type": "markdown",
      "metadata": {
        "id": "view-in-github",
        "colab_type": "text"
      },
      "source": [
        "<a href=\"https://colab.research.google.com/github/sarvnn/EIP4/blob/master/CODE9-VACC9959.ipynb\" target=\"_parent\"><img src=\"https://colab.research.google.com/assets/colab-badge.svg\" alt=\"Open In Colab\"/></a>"
      ]
    },
    {
      "cell_type": "code",
      "metadata": {
        "id": "0SJyVpgSxHt4",
        "colab_type": "code",
        "outputId": "7424a15c-f5f7-4dc7-bdb7-e71b9754ba76",
        "colab": {
          "base_uri": "https://localhost:8080/",
          "height": 83
        }
      },
      "source": [
        "import numpy as np\n",
        "\n",
        "from keras.models import Sequential\n",
        "from keras.layers import Dense, Dropout, Activation, Flatten, Add, BatchNormalization\n",
        "from keras.layers import Convolution2D, MaxPooling2D\n",
        "from keras.utils import np_utils\n",
        "\n",
        "from keras.datasets import mnist"
      ],
      "execution_count": 1,
      "outputs": [
        {
          "output_type": "stream",
          "text": [
            "Using TensorFlow backend.\n"
          ],
          "name": "stderr"
        },
        {
          "output_type": "display_data",
          "data": {
            "text/html": [
              "<p style=\"color: red;\">\n",
              "The default version of TensorFlow in Colab will soon switch to TensorFlow 2.x.<br>\n",
              "We recommend you <a href=\"https://www.tensorflow.org/guide/migrate\" target=\"_blank\">upgrade</a> now \n",
              "or ensure your notebook will continue to use TensorFlow 1.x via the <code>%tensorflow_version 1.x</code> magic:\n",
              "<a href=\"https://colab.research.google.com/notebooks/tensorflow_version.ipynb\" target=\"_blank\">more info</a>.</p>\n"
            ],
            "text/plain": [
              "<IPython.core.display.HTML object>"
            ]
          },
          "metadata": {
            "tags": []
          }
        }
      ]
    },
    {
      "cell_type": "code",
      "metadata": {
        "id": "YlEUplvoxKAT",
        "colab_type": "code",
        "outputId": "5c59eeba-5eeb-4572-f6ad-10d8daa475d0",
        "colab": {
          "base_uri": "https://localhost:8080/",
          "height": 54
        }
      },
      "source": [
        "(X_train, y_train), (X_test, y_test) = mnist.load_data()\n"
      ],
      "execution_count": 2,
      "outputs": [
        {
          "output_type": "stream",
          "text": [
            "Downloading data from https://s3.amazonaws.com/img-datasets/mnist.npz\n",
            "11493376/11490434 [==============================] - 1s 0us/step\n"
          ],
          "name": "stdout"
        }
      ]
    },
    {
      "cell_type": "code",
      "metadata": {
        "id": "I6Y9Va-xxMXG",
        "colab_type": "code",
        "outputId": "d802e691-68ad-4354-cdc8-9e0c7397523e",
        "colab": {
          "base_uri": "https://localhost:8080/",
          "height": 302
        }
      },
      "source": [
        "print (X_train.shape)\n",
        "from matplotlib import pyplot as plt\n",
        "%matplotlib inline\n",
        "plt.imshow(X_train[9])"
      ],
      "execution_count": 5,
      "outputs": [
        {
          "output_type": "stream",
          "text": [
            "(60000, 28, 28)\n"
          ],
          "name": "stdout"
        },
        {
          "output_type": "execute_result",
          "data": {
            "text/plain": [
              "<matplotlib.image.AxesImage at 0x7f697a012710>"
            ]
          },
          "metadata": {
            "tags": []
          },
          "execution_count": 5
        },
        {
          "output_type": "display_data",
          "data": {
            "image/png": "[encoded data removed]",
            "text/plain": [
              "<Figure size 432x288 with 1 Axes>"
            ]
          },
          "metadata": {
            "tags": []
          }
        }
      ]
    },
    {
      "cell_type": "code",
      "metadata": {
        "id": "lxDZxPhhxOgO",
        "colab_type": "code",
        "colab": {}
      },
      "source": [
        "X_train = X_train.reshape(X_train.shape[0], 28, 28,1)\n",
        "X_test = X_test.reshape(X_test.shape[0], 28, 28,1)"
      ],
      "execution_count": 0,
      "outputs": []
    },
    {
      "cell_type": "code",
      "metadata": {
        "id": "3HzMqbTnxQQW",
        "colab_type": "code",
        "colab": {}
      },
      "source": [
        "X_train = X_train.astype('float32')\n",
        "X_test = X_test.astype('float32')\n",
        "X_train /= 255\n",
        "X_test /= 255"
      ],
      "execution_count": 0,
      "outputs": []
    },
    {
      "cell_type": "code",
      "metadata": {
        "id": "7LdYiW6ixR9e",
        "colab_type": "code",
        "colab": {}
      },
      "source": [
        "y_train[:10]\n",
        "Y_train = np_utils.to_categorical(y_train, 10)\n",
        "Y_test = np_utils.to_categorical(y_test, 10)"
      ],
      "execution_count": 0,
      "outputs": []
    },
    {
      "cell_type": "code",
      "metadata": {
        "id": "rFR0F9j0xVp2",
        "colab_type": "code",
        "outputId": "4f54f336-2140-4727-ec39-23dd4ac27442",
        "colab": {
          "base_uri": "https://localhost:8080/",
          "height": 201
        }
      },
      "source": [
        "Y_train[:10]"
      ],
      "execution_count": 9,
      "outputs": [
        {
          "output_type": "execute_result",
          "data": {
            "text/plain": [
              "array([[0., 0., 0., 0., 0., 1., 0., 0., 0., 0.],\n",
              "       [1., 0., 0., 0., 0., 0., 0., 0., 0., 0.],\n",
              "       [0., 0., 0., 0., 1., 0., 0., 0., 0., 0.],\n",
              "       [0., 1., 0., 0., 0., 0., 0., 0., 0., 0.],\n",
              "       [0., 0., 0., 0., 0., 0., 0., 0., 0., 1.],\n",
              "       [0., 0., 1., 0., 0., 0., 0., 0., 0., 0.],\n",
              "       [0., 1., 0., 0., 0., 0., 0., 0., 0., 0.],\n",
              "       [0., 0., 0., 1., 0., 0., 0., 0., 0., 0.],\n",
              "       [0., 1., 0., 0., 0., 0., 0., 0., 0., 0.],\n",
              "       [0., 0., 0., 0., 1., 0., 0., 0., 0., 0.]], dtype=float32)"
            ]
          },
          "metadata": {
            "tags": []
          },
          "execution_count": 9
        }
      ]
    },
    {
      "cell_type": "code",
      "metadata": {
        "id": "mDpXf4YQxXRm",
        "colab_type": "code",
        "outputId": "5e4c83be-c8bb-4c99-9dc5-7c4b46c64cb3",
        "colab": {
          "base_uri": "https://localhost:8080/",
          "height": 1000
        }
      },
      "source": [
        "from keras.layers import Activation\n",
        "\n",
        "dp=0.1\n",
        "\n",
        "model = Sequential()\n",
        " \n",
        "model.add(Convolution2D(16, 3, 3, activation='relu', input_shape=(28,28,1))) #26\n",
        "model.add(BatchNormalization())\n",
        "model.add(Dropout(dp))\n",
        "\n",
        "model.add(Convolution2D(16, 3, 3, activation='relu')) #24\n",
        "model.add(BatchNormalization())\n",
        "model.add(Dropout(dp))\n",
        "\n",
        "model.add(Convolution2D(10, 1, 1, activation='relu')) #24\n",
        "\n",
        "model.add(MaxPooling2D(pool_size=(2, 2)))#12\n",
        "\n",
        "model.add(Convolution2D(16, 3, 3, activation='relu'))#10\n",
        "model.add(BatchNormalization())\n",
        "model.add(Dropout(dp))\n",
        "\n",
        "\n",
        "model.add(Convolution2D(16, 3, 3, activation='relu'))#8\n",
        "model.add(BatchNormalization())\n",
        "model.add(Dropout(dp))\n",
        "\n",
        "\n",
        "model.add(Convolution2D(16, 3, 3, activation='relu'))#6\n",
        "model.add(BatchNormalization())\n",
        "model.add(Dropout(dp))\n",
        "\n",
        "\n",
        "model.add(Convolution2D(16, 3, 3, activation='relu'))#4\n",
        "model.add(BatchNormalization())\n",
        "model.add(Dropout(dp))\n",
        "\n",
        "# model.add(Convolution2D(16, 3, 3, activation='relu'))#3\n",
        "# model.add(BatchNormalization())\n",
        "# model.add(Dropout(dp))\n",
        "\n",
        "model.add(Convolution2D(10, 4, 4))\n",
        "model.add(BatchNormalization())\n",
        "model.add(Dropout(dp))\n",
        "\n",
        "\n",
        "model.add(Flatten())\n",
        "model.add(Activation('softmax'))\n",
        "\n",
        "\n",
        "model.summary()"
      ],
      "execution_count": 106,
      "outputs": [
        {
          "output_type": "stream",
          "text": [
            "/usr/local/lib/python3.6/dist-packages/ipykernel_launcher.py:7: UserWarning: Update your `Conv2D` call to the Keras 2 API: `Conv2D(16, (3, 3), activation=\"relu\", input_shape=(28, 28, 1...)`\n",
            "  import sys\n",
            "/usr/local/lib/python3.6/dist-packages/ipykernel_launcher.py:11: UserWarning: Update your `Conv2D` call to the Keras 2 API: `Conv2D(16, (3, 3), activation=\"relu\")`\n",
            "  # This is added back by InteractiveShellApp.init_path()\n",
            "/usr/local/lib/python3.6/dist-packages/ipykernel_launcher.py:15: UserWarning: Update your `Conv2D` call to the Keras 2 API: `Conv2D(10, (1, 1), activation=\"relu\")`\n",
            "  from ipykernel import kernelapp as app\n",
            "/usr/local/lib/python3.6/dist-packages/ipykernel_launcher.py:19: UserWarning: Update your `Conv2D` call to the Keras 2 API: `Conv2D(16, (3, 3), activation=\"relu\")`\n",
            "/usr/local/lib/python3.6/dist-packages/ipykernel_launcher.py:24: UserWarning: Update your `Conv2D` call to the Keras 2 API: `Conv2D(16, (3, 3), activation=\"relu\")`\n",
            "/usr/local/lib/python3.6/dist-packages/ipykernel_launcher.py:29: UserWarning: Update your `Conv2D` call to the Keras 2 API: `Conv2D(16, (3, 3), activation=\"relu\")`\n",
            "/usr/local/lib/python3.6/dist-packages/ipykernel_launcher.py:34: UserWarning: Update your `Conv2D` call to the Keras 2 API: `Conv2D(16, (3, 3), activation=\"relu\")`\n"
          ],
          "name": "stderr"
        },
        {
          "output_type": "stream",
          "text": [
            "Model: \"sequential_44\"\n",
            "_________________________________________________________________\n",
            "Layer (type)                 Output Shape              Param #   \n",
            "=================================================================\n",
            "conv2d_338 (Conv2D)          (None, 26, 26, 16)        160       \n",
            "_________________________________________________________________\n",
            "batch_normalization_295 (Bat (None, 26, 26, 16)        64        \n",
            "_________________________________________________________________\n",
            "dropout_295 (Dropout)        (None, 26, 26, 16)        0         \n",
            "_________________________________________________________________\n",
            "conv2d_339 (Conv2D)          (None, 24, 24, 16)        2320      \n",
            "_________________________________________________________________\n",
            "batch_normalization_296 (Bat (None, 24, 24, 16)        64        \n",
            "_________________________________________________________________\n",
            "dropout_296 (Dropout)        (None, 24, 24, 16)        0         \n",
            "_________________________________________________________________\n",
            "conv2d_340 (Conv2D)          (None, 24, 24, 10)        170       \n",
            "_________________________________________________________________\n",
            "max_pooling2d_44 (MaxPooling (None, 12, 12, 10)        0         \n",
            "_________________________________________________________________\n",
            "conv2d_341 (Conv2D)          (None, 10, 10, 16)        1456      \n",
            "_________________________________________________________________\n",
            "batch_normalization_297 (Bat (None, 10, 10, 16)        64        \n",
            "_________________________________________________________________\n",
            "dropout_297 (Dropout)        (None, 10, 10, 16)        0         \n",
            "_________________________________________________________________\n",
            "conv2d_342 (Conv2D)          (None, 8, 8, 16)          2320      \n",
            "_________________________________________________________________\n",
            "batch_normalization_298 (Bat (None, 8, 8, 16)          64        \n",
            "_________________________________________________________________\n",
            "dropout_298 (Dropout)        (None, 8, 8, 16)          0         \n",
            "_________________________________________________________________\n",
            "conv2d_343 (Conv2D)          (None, 6, 6, 16)          2320      \n",
            "_________________________________________________________________\n",
            "batch_normalization_299 (Bat (None, 6, 6, 16)          64        \n",
            "_________________________________________________________________\n",
            "dropout_299 (Dropout)        (None, 6, 6, 16)          0         \n",
            "_________________________________________________________________\n",
            "conv2d_344 (Conv2D)          (None, 4, 4, 16)          2320      \n",
            "_________________________________________________________________\n",
            "batch_normalization_300 (Bat (None, 4, 4, 16)          64        \n",
            "_________________________________________________________________\n",
            "dropout_300 (Dropout)        (None, 4, 4, 16)          0         \n",
            "_________________________________________________________________\n",
            "conv2d_345 (Conv2D)          (None, 1, 1, 10)          2570      \n",
            "_________________________________________________________________\n",
            "batch_normalization_301 (Bat (None, 1, 1, 10)          40        \n",
            "_________________________________________________________________\n",
            "dropout_301 (Dropout)        (None, 1, 1, 10)          0         \n",
            "_________________________________________________________________\n",
            "flatten_43 (Flatten)         (None, 10)                0         \n",
            "_________________________________________________________________\n",
            "activation_43 (Activation)   (None, 10)                0         \n",
            "=================================================================\n",
            "Total params: 14,060\n",
            "Trainable params: 13,848\n",
            "Non-trainable params: 212\n",
            "_________________________________________________________________\n"
          ],
          "name": "stdout"
        },
        {
          "output_type": "stream",
          "text": [
            "/usr/local/lib/python3.6/dist-packages/ipykernel_launcher.py:42: UserWarning: Update your `Conv2D` call to the Keras 2 API: `Conv2D(10, (4, 4))`\n"
          ],
          "name": "stderr"
        }
      ]
    },
    {
      "cell_type": "code",
      "metadata": {
        "id": "L2IicGJ4x3Be",
        "colab_type": "code",
        "outputId": "f364d1d6-7120-4b12-f86c-85e01e85bfea",
        "colab": {
          "base_uri": "https://localhost:8080/",
          "height": 1000
        }
      },
      "source": [
        "from keras.optimizers import Adam\n",
        "from keras.callbacks import LearningRateScheduler\n",
        "def scheduler(epoch, lr):\n",
        "  return round(0.002 * 1/(1 + 0.319 * epoch), 10)\n",
        "\n",
        "model.compile(loss='categorical_crossentropy', optimizer=Adam(lr=0.002), metrics=['accuracy'])\n",
        "\n",
        "model.fit(X_train, Y_train, batch_size=128, epochs=20, verbose=1, validation_data=(X_test, Y_test), callbacks=[LearningRateScheduler(scheduler, verbose=1)])"
      ],
      "execution_count": 111,
      "outputs": [
        {
          "output_type": "stream",
          "text": [
            "Train on 60000 samples, validate on 10000 samples\n",
            "Epoch 1/20\n",
            "\n",
            "Epoch 00001: LearningRateScheduler setting learning rate to 0.002.\n",
            "60000/60000 [==============================] - 40s 662us/step - loss: 0.0897 - acc: 0.9570 - val_loss: 0.0219 - val_acc: 0.9930\n",
            "Epoch 2/20\n",
            "\n",
            "Epoch 00002: LearningRateScheduler setting learning rate to 0.0015163002.\n",
            "60000/60000 [==============================] - 9s 146us/step - loss: 0.0864 - acc: 0.9575 - val_loss: 0.0206 - val_acc: 0.9945\n",
            "Epoch 3/20\n",
            "\n",
            "Epoch 00003: LearningRateScheduler setting learning rate to 0.0012210012.\n",
            "60000/60000 [==============================] - 9s 142us/step - loss: 0.0828 - acc: 0.9593 - val_loss: 0.0195 - val_acc: 0.9942\n",
            "Epoch 4/20\n",
            "\n",
            "Epoch 00004: LearningRateScheduler setting learning rate to 0.0010219724.\n",
            "60000/60000 [==============================] - 9s 143us/step - loss: 0.0818 - acc: 0.9589 - val_loss: 0.0229 - val_acc: 0.9942\n",
            "Epoch 5/20\n",
            "\n",
            "Epoch 00005: LearningRateScheduler setting learning rate to 0.0008787346.\n",
            "60000/60000 [==============================] - 9s 144us/step - loss: 0.0800 - acc: 0.9592 - val_loss: 0.0175 - val_acc: 0.9946\n",
            "Epoch 6/20\n",
            "\n",
            "Epoch 00006: LearningRateScheduler setting learning rate to 0.0007707129.\n",
            "60000/60000 [==============================] - 9s 145us/step - loss: 0.0806 - acc: 0.9588 - val_loss: 0.0214 - val_acc: 0.9952\n",
            "Epoch 7/20\n",
            "\n",
            "Epoch 00007: LearningRateScheduler setting learning rate to 0.0006863418.\n",
            "60000/60000 [==============================] - 9s 143us/step - loss: 0.0777 - acc: 0.9601 - val_loss: 0.0199 - val_acc: 0.9950\n",
            "Epoch 8/20\n",
            "\n",
            "Epoch 00008: LearningRateScheduler setting learning rate to 0.0006186205.\n",
            "60000/60000 [==============================] - 9s 144us/step - loss: 0.0775 - acc: 0.9600 - val_loss: 0.0224 - val_acc: 0.9941\n",
            "Epoch 9/20\n",
            "\n",
            "Epoch 00009: LearningRateScheduler setting learning rate to 0.0005630631.\n",
            "60000/60000 [==============================] - 9s 145us/step - loss: 0.0765 - acc: 0.9595 - val_loss: 0.0193 - val_acc: 0.9950\n",
            "Epoch 10/20\n",
            "\n",
            "Epoch 00010: LearningRateScheduler setting learning rate to 0.0005166624.\n",
            "60000/60000 [==============================] - 9s 144us/step - loss: 0.0766 - acc: 0.9611 - val_loss: 0.0174 - val_acc: 0.9950\n",
            "Epoch 11/20\n",
            "\n",
            "Epoch 00011: LearningRateScheduler setting learning rate to 0.000477327.\n",
            "60000/60000 [==============================] - 9s 143us/step - loss: 0.0766 - acc: 0.9602 - val_loss: 0.0169 - val_acc: 0.9953\n",
            "Epoch 12/20\n",
            "\n",
            "Epoch 00012: LearningRateScheduler setting learning rate to 0.0004435573.\n",
            "60000/60000 [==============================] - 9s 144us/step - loss: 0.0759 - acc: 0.9610 - val_loss: 0.0182 - val_acc: 0.9947\n",
            "Epoch 13/20\n",
            "\n",
            "Epoch 00013: LearningRateScheduler setting learning rate to 0.0004142502.\n",
            "60000/60000 [==============================] - 9s 143us/step - loss: 0.0755 - acc: 0.9601 - val_loss: 0.0174 - val_acc: 0.9950\n",
            "Epoch 14/20\n",
            "\n",
            "Epoch 00014: LearningRateScheduler setting learning rate to 0.0003885759.\n",
            "60000/60000 [==============================] - 9s 149us/step - loss: 0.0781 - acc: 0.9584 - val_loss: 0.0174 - val_acc: 0.9947\n",
            "Epoch 15/20\n",
            "\n",
            "Epoch 00015: LearningRateScheduler setting learning rate to 0.0003658983.\n",
            "60000/60000 [==============================] - 9s 144us/step - loss: 0.0757 - acc: 0.9604 - val_loss: 0.0157 - val_acc: 0.9953\n",
            "Epoch 16/20\n",
            "\n",
            "Epoch 00016: LearningRateScheduler setting learning rate to 0.0003457217.\n",
            "60000/60000 [==============================] - 9s 146us/step - loss: 0.0755 - acc: 0.9599 - val_loss: 0.0169 - val_acc: 0.9956\n",
            "Epoch 17/20\n",
            "\n",
            "Epoch 00017: LearningRateScheduler setting learning rate to 0.000327654.\n",
            "60000/60000 [==============================] - 9s 142us/step - loss: 0.0734 - acc: 0.9606 - val_loss: 0.0170 - val_acc: 0.9947\n",
            "Epoch 18/20\n",
            "\n",
            "Epoch 00018: LearningRateScheduler setting learning rate to 0.000311381.\n",
            "60000/60000 [==============================] - 9s 145us/step - loss: 0.0739 - acc: 0.9604 - val_loss: 0.0163 - val_acc: 0.9953\n",
            "Epoch 19/20\n",
            "\n",
            "Epoch 00019: LearningRateScheduler setting learning rate to 0.0002966479.\n",
            "60000/60000 [==============================] - 9s 143us/step - loss: 0.0733 - acc: 0.9606 - val_loss: 0.0172 - val_acc: 0.9953\n",
            "Epoch 20/20\n",
            "\n",
            "Epoch 00020: LearningRateScheduler setting learning rate to 0.000283246.\n",
            "60000/60000 [==============================] - 9s 144us/step - loss: 0.0725 - acc: 0.9616 - val_loss: 0.0171 - val_acc: 0.9959\n"
          ],
          "name": "stdout"
        },
        {
          "output_type": "execute_result",
          "data": {
            "text/plain": [
              "<keras.callbacks.History at 0x7f6895cce978>"
            ]
          },
          "metadata": {
            "tags": []
          },
          "execution_count": 111
        }
      ]
    },
    {
      "cell_type": "code",
      "metadata": {
        "id": "WLxlW9ufyQiO",
        "colab_type": "code",
        "outputId": "58de0c8c-e304-4c42-e411-dcc84eefe786",
        "colab": {
          "base_uri": "https://localhost:8080/",
          "height": 35
        }
      },
      "source": [
        "score = model.evaluate(X_test, Y_test, verbose=0)\n",
        "print(score)"
      ],
      "execution_count": 112,
      "outputs": [
        {
          "output_type": "stream",
          "text": [
            "[0.017078954667203654, 0.9959]\n"
          ],
          "name": "stdout"
        }
      ]
    },
    {
      "cell_type": "code",
      "metadata": {
        "id": "m2qDl21ozBnW",
        "colab_type": "code",
        "colab": {}
      },
      "source": [
        ""
      ],
      "execution_count": 0,
      "outputs": []
    }
  ]
}